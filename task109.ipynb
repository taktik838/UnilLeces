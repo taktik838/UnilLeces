{
  "nbformat": 4,
  "nbformat_minor": 0,
  "metadata": {
    "colab": {
      "name": "UnilLeces_task109.ipynb",
      "provenance": []
    },
    "kernelspec": {
      "name": "python3",
      "display_name": "Python 3"
    }
  },
  "cells": [
    {
      "cell_type": "code",
      "metadata": {
        "id": "B2XCI3kAGTHz",
        "colab_type": "code",
        "colab": {}
      },
      "source": [
        "import numpy as np\n",
        "import time"
      ],
      "execution_count": 0,
      "outputs": []
    },
    {
      "cell_type": "markdown",
      "metadata": {
        "id": "VTptyylZHqzT",
        "colab_type": "text"
      },
      "source": [
        "Вручную вводим данные:"
      ]
    },
    {
      "cell_type": "code",
      "metadata": {
        "id": "VaClj0XbGxwv",
        "colab_type": "code",
        "colab": {
          "base_uri": "https://localhost:8080/",
          "height": 34
        },
        "outputId": "65a4ed17-2417-41c6-cb5e-e2dd2aa26469"
      },
      "source": [
        "N = int(input('Введите N: '))"
      ],
      "execution_count": 2,
      "outputs": [
        {
          "output_type": "stream",
          "text": [
            "Введите N: 10\n"
          ],
          "name": "stdout"
        }
      ]
    },
    {
      "cell_type": "code",
      "metadata": {
        "id": "PHoR8raAJYuO",
        "colab_type": "code",
        "colab": {
          "base_uri": "https://localhost:8080/",
          "height": 34
        },
        "outputId": "1ab98e23-4fcc-417b-f323-a43bfe96bed1"
      },
      "source": [
        "mean_costs = list(map(int, input('Введите N чисел: ').split()))"
      ],
      "execution_count": 3,
      "outputs": [
        {
          "output_type": "stream",
          "text": [
            "Введите N чисел: 1 2 3 2 1 4 2 5 3 1\n"
          ],
          "name": "stdout"
        }
      ]
    },
    {
      "cell_type": "markdown",
      "metadata": {
        "id": "rV0PqkJgJyH8",
        "colab_type": "text"
      },
      "source": [
        "Авто данные"
      ]
    },
    {
      "cell_type": "code",
      "metadata": {
        "id": "lHMS_BAeJ8zq",
        "colab_type": "code",
        "colab": {}
      },
      "source": [
        "def auto_values(maxN=1e5, maxCost=1e9):\n",
        "    N = np.random.randint(2, maxN)\n",
        "    mean_costs = np.random.randint(0, maxCost, N)\n",
        "    return N, mean_costs"
      ],
      "execution_count": 0,
      "outputs": []
    },
    {
      "cell_type": "code",
      "metadata": {
        "id": "tFKyxGKxyYtt",
        "colab_type": "code",
        "colab": {
          "base_uri": "https://localhost:8080/",
          "height": 52
        },
        "outputId": "d24690d5-99ef-417f-d1fe-19a7d6f39463"
      },
      "source": [
        "N, mean_costs = auto_values()\n",
        "print(N)\n",
        "print(mean_costs) "
      ],
      "execution_count": 40,
      "outputs": [
        {
          "output_type": "stream",
          "text": [
            "84300\n",
            "[932014839 902786045 957783064 ... 558672068 924387589 632490487]\n"
          ],
          "name": "stdout"
        }
      ]
    },
    {
      "cell_type": "markdown",
      "metadata": {
        "id": "LSlN5cT1LIWk",
        "colab_type": "text"
      },
      "source": [
        "Алгоритм:"
      ]
    },
    {
      "cell_type": "code",
      "metadata": {
        "id": "349JYs9MLGos",
        "colab_type": "code",
        "colab": {}
      },
      "source": [
        "def algoritm(N, mean_costs):\n",
        "    output      = np.zeros(N, dtype=int)\n",
        "    output[-1]  = -1\n",
        "    min_cost    = mean_costs[-1]\n",
        "    west_cities = [min_cost] # хранит цены\n",
        "    for i in range(N-2, -1, -1): # идем от N-2 до -1 с шагом -1, до -1 потому что -1 не включительно\n",
        "        if mean_costs[i] <= min_cost:\n",
        "            # если находися новый минимум, то нам больше не надо хранить все восточные города и \n",
        "            # мы знаем что из этого города не найдут лучшей жизни\n",
        "            min_cost    = mean_costs[i]\n",
        "            west_cities = [mean_costs[i]]\n",
        "            output[i]   = -1\n",
        "        else:\n",
        "            # ищем лучшую жизнь\n",
        "            for j, cost in enumerate(west_cities):\n",
        "                if cost < mean_costs[i]: \n",
        "                    output[i] = i + j + 1\n",
        "                    break\n",
        "            west_cities.insert(0, mean_costs[i])\n",
        "    return output"
      ],
      "execution_count": 0,
      "outputs": []
    },
    {
      "cell_type": "markdown",
      "metadata": {
        "id": "rwA_T0n3yoPS",
        "colab_type": "text"
      },
      "source": [
        "Проверка на известнных данных:"
      ]
    },
    {
      "cell_type": "code",
      "metadata": {
        "id": "sSdpd4MbxuLF",
        "colab_type": "code",
        "colab": {
          "base_uri": "https://localhost:8080/",
          "height": 69
        },
        "outputId": "0a55ccea-aea4-42c0-af9b-5950ff969d27"
      },
      "source": [
        "print(N)\n",
        "print(*mean_costs) # звездочка просто ради такого вывода\n",
        "print(*algoritm(N, mean_costs)) # звездочка просто ради такого вывода"
      ],
      "execution_count": 6,
      "outputs": [
        {
          "output_type": "stream",
          "text": [
            "10\n",
            "1 2 3 2 1 4 2 5 3 1\n",
            "-1 4 3 4 -1 6 9 8 9 -1\n"
          ],
          "name": "stdout"
        }
      ]
    },
    {
      "cell_type": "markdown",
      "metadata": {
        "id": "jMqG4qRdz3D0",
        "colab_type": "text"
      },
      "source": [
        "Несколько рандомных тестов"
      ]
    },
    {
      "cell_type": "code",
      "metadata": {
        "id": "UaeJXLIuz1PP",
        "colab_type": "code",
        "colab": {
          "base_uri": "https://localhost:8080/",
          "height": 892
        },
        "outputId": "3d4a262c-f24b-4f7d-f777-a16da7ea7f05"
      },
      "source": [
        "for _ in range(10):\n",
        "    start = time.time()\n",
        "    N, mean_costs = auto_values()\n",
        "    print('N =', N)\n",
        "    print('mean_costs =', mean_costs)\n",
        "    print('output =', algoritm(N, mean_costs))\n",
        "    print('time = %.3f' % (time.time() - start))\n",
        "    print()"
      ],
      "execution_count": 7,
      "outputs": [
        {
          "output_type": "stream",
          "text": [
            "N = 16092\n",
            "mean_costs = [201623251 999980827 109071335 ... 736544875 343046255 907524053]\n",
            "output = [    2     2     5 ... 16090    -1    -1]\n",
            "time = 0.092\n",
            "\n",
            "N = 46299\n",
            "mean_costs = [298942033 128495957 750708863 ...  75806937 293495933 143860842]\n",
            "output = [    1     5     3 ...    -1 46298    -1]\n",
            "time = 0.287\n",
            "\n",
            "N = 96132\n",
            "mean_costs = [ 71579388 520970605 854860024 ... 292199328 332645005 340757103]\n",
            "output = [14  4  4 ... -1 -1 -1]\n",
            "time = 0.980\n",
            "\n",
            "N = 67322\n",
            "mean_costs = [654477173 508323958 603229660 ... 751852652 725469472 784595019]\n",
            "output = [    1     5     5 ... 67320    -1    -1]\n",
            "time = 1.142\n",
            "\n",
            "N = 40674\n",
            "mean_costs = [732893056 264602997 103289178 ... 687862548 256445813 913510580]\n",
            "output = [    1     2    12 ... 40672    -1    -1]\n",
            "time = 0.270\n",
            "\n",
            "N = 14700\n",
            "mean_costs = [155508078 988156246 528902145 ... 381296254 749783320 442980525]\n",
            "output = [   11     2     8 ...    -1 14699    -1]\n",
            "time = 0.063\n",
            "\n",
            "N = 1067\n",
            "mean_costs = [560514233 901968694 953257826 ... 476619423 421242939 140626740]\n",
            "output = [   3    3    3 ... 1065 1066   -1]\n",
            "time = 0.004\n",
            "\n",
            "N = 81645\n",
            "mean_costs = [314748727 451798499 363467111 ... 419564774 863787771 684188808]\n",
            "output = [    3     2     3 ...    -1 81644    -1]\n",
            "time = 1.238\n",
            "\n",
            "N = 7852\n",
            "mean_costs = [ 86543587 314554374 756043007 ... 390297980 969177238  38046049]\n",
            "output = [  13    8    5 ... 7851 7851   -1]\n",
            "time = 0.030\n",
            "\n",
            "N = 20145\n",
            "mean_costs = [682966446 939311245 250582118 ... 406382713 729528405  24712787]\n",
            "output = [    2     2     3 ... 20144 20144    -1]\n",
            "time = 0.110\n",
            "\n"
          ],
          "name": "stdout"
        }
      ]
    }
  ]
}